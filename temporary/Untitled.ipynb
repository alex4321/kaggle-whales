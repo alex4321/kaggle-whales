{
 "cells": [
  {
   "cell_type": "code",
   "execution_count": 128,
   "metadata": {},
   "outputs": [],
   "source": [
    "%matplotlib inline\n",
    "import math\n",
    "import matplotlib.pyplot as plt\n",
    "import pandas as pd\n",
    "import common\n",
    "from albumentations import (\n",
    "    HorizontalFlip, IAAPerspective, ShiftScaleRotate, CLAHE, RandomRotate90,\n",
    "    Transpose, ShiftScaleRotate, Blur, OpticalDistortion, GridDistortion, HueSaturationValue,\n",
    "    IAAAdditiveGaussianNoise, GaussNoise, MotionBlur, MedianBlur, IAAPiecewiseAffine,\n",
    "    IAASharpen, IAAEmboss, RandomContrast, RandomBrightness, Flip, OneOf, Compose\n",
    ")\n",
    "import numpy as np\n",
    "from keras.applications.resnet50 import preprocess_input, ResNet50\n",
    "from keras.models import Model, Sequential\n",
    "from keras.optimizers import SGD\n",
    "from keras.layers import Input, InputLayer, Dense, Lambda, Concatenate\n",
    "from keras import backend as K\n",
    "from keras.regularizers import l2\n",
    "from keras.callbacks import Callback, ModelCheckpoint, EarlyStopping\n",
    "import seaborn as sns\n",
    "from sklearn.metrics.pairwise import euclidean_distances\n",
    "from sklearn.metrics import f1_score\n",
    "from scipy.optimize import minimize_scalar\n",
    "from tqdm import tqdm\n",
    "from sklearn.neighbors import KNeighborsClassifier"
   ]
  },
  {
   "cell_type": "code",
   "execution_count": 2,
   "metadata": {},
   "outputs": [
    {
     "data": {
      "text/html": [
       "<div>\n",
       "<style scoped>\n",
       "    .dataframe tbody tr th:only-of-type {\n",
       "        vertical-align: middle;\n",
       "    }\n",
       "\n",
       "    .dataframe tbody tr th {\n",
       "        vertical-align: top;\n",
       "    }\n",
       "\n",
       "    .dataframe thead th {\n",
       "        text-align: right;\n",
       "    }\n",
       "</style>\n",
       "<table border=\"1\" class=\"dataframe\">\n",
       "  <thead>\n",
       "    <tr style=\"text-align: right;\">\n",
       "      <th></th>\n",
       "      <th>image</th>\n",
       "      <th>id</th>\n",
       "    </tr>\n",
       "  </thead>\n",
       "  <tbody>\n",
       "    <tr>\n",
       "      <th>0</th>\n",
       "      <td>0000e88ab.jpg</td>\n",
       "      <td>w_f48451c</td>\n",
       "    </tr>\n",
       "    <tr>\n",
       "      <th>1</th>\n",
       "      <td>0001f9222.jpg</td>\n",
       "      <td>w_c3d896a</td>\n",
       "    </tr>\n",
       "    <tr>\n",
       "      <th>2</th>\n",
       "      <td>00029d126.jpg</td>\n",
       "      <td>w_20df2c5</td>\n",
       "    </tr>\n",
       "    <tr>\n",
       "      <th>3</th>\n",
       "      <td>00050a15a.jpg</td>\n",
       "      <td>new_whale</td>\n",
       "    </tr>\n",
       "    <tr>\n",
       "      <th>4</th>\n",
       "      <td>0005c1ef8.jpg</td>\n",
       "      <td>new_whale</td>\n",
       "    </tr>\n",
       "  </tbody>\n",
       "</table>\n",
       "</div>"
      ],
      "text/plain": [
       "           image         id\n",
       "0  0000e88ab.jpg  w_f48451c\n",
       "1  0001f9222.jpg  w_c3d896a\n",
       "2  00029d126.jpg  w_20df2c5\n",
       "3  00050a15a.jpg  new_whale\n",
       "4  0005c1ef8.jpg  new_whale"
      ]
     },
     "execution_count": 2,
     "metadata": {},
     "output_type": "execute_result"
    }
   ],
   "source": [
    "df = pd.read_csv('../input/train.csv')\n",
    "df.columns = ['image', 'id']\n",
    "df.head()"
   ]
  },
  {
   "cell_type": "code",
   "execution_count": 3,
   "metadata": {},
   "outputs": [],
   "source": [
    "VECTOR_SIZE = 300"
   ]
  },
  {
   "cell_type": "code",
   "execution_count": 4,
   "metadata": {},
   "outputs": [],
   "source": [
    "def pair_mapping(df):\n",
    "    df_anchor = df.sort_values(['id', 'image'], ascending=[True, True]).reset_index(drop=True).add_suffix('_anchor')\n",
    "    df_positive = df.sort_values(['id', 'image'], ascending=[True, False]).reset_index(drop=True).add_suffix('_positive')\n",
    "    df_negative = df.sort_values(['id', 'image'], ascending=[False, False]).reset_index(drop=True).add_suffix('_negative')\n",
    "    df_triplet = df_anchor.join(df_positive).join(df_negative)\n",
    "    df_triplet = df_triplet.loc[\n",
    "        (df_triplet['id_anchor'] == df_triplet['id_positive']) &\n",
    "        (df_triplet['id_anchor'] != df_triplet['id_negative'])\n",
    "    ].reset_index(drop=True)\n",
    "    return df_triplet"
   ]
  },
  {
   "cell_type": "code",
   "execution_count": 5,
   "metadata": {},
   "outputs": [],
   "source": [
    "def shuffled_unique_ids(df):\n",
    "    ids = df.loc[df['id'] != 'new_whale', 'id'].drop_duplicates()\n",
    "    return ids.sample(len(ids)).reset_index(drop=True)"
   ]
  },
  {
   "cell_type": "code",
   "execution_count": 6,
   "metadata": {},
   "outputs": [
    {
     "data": {
      "text/plain": [
       "5005"
      ]
     },
     "execution_count": 6,
     "metadata": {},
     "output_type": "execute_result"
    }
   ],
   "source": [
    "len(df['id'].unique())"
   ]
  },
  {
   "cell_type": "code",
   "execution_count": 7,
   "metadata": {},
   "outputs": [],
   "source": [
    "ids = shuffled_unique_ids(df)\n",
    "train_ids = ids[:4500]\n",
    "val_ids = ids[4500:]"
   ]
  },
  {
   "cell_type": "code",
   "execution_count": 8,
   "metadata": {},
   "outputs": [],
   "source": [
    "train_mapping = pair_mapping(df.loc[df['id'].isin(train_ids)])\n",
    "val_mapping = pair_mapping(df.loc[df['id'].isin(val_ids)])"
   ]
  },
  {
   "cell_type": "code",
   "execution_count": 9,
   "metadata": {},
   "outputs": [
    {
     "data": {
      "text/plain": [
       "(14098, 6)"
      ]
     },
     "execution_count": 9,
     "metadata": {},
     "output_type": "execute_result"
    }
   ],
   "source": [
    "train_mapping.shape"
   ]
  },
  {
   "cell_type": "code",
   "execution_count": 10,
   "metadata": {},
   "outputs": [
    {
     "data": {
      "text/plain": [
       "(1592, 6)"
      ]
     },
     "execution_count": 10,
     "metadata": {},
     "output_type": "execute_result"
    }
   ],
   "source": [
    "val_mapping.shape"
   ]
  },
  {
   "cell_type": "code",
   "execution_count": 38,
   "metadata": {},
   "outputs": [],
   "source": [
    "images = common.read_pickle('../data/train-images.pkl')"
   ]
  },
  {
   "cell_type": "code",
   "execution_count": 12,
   "metadata": {},
   "outputs": [
    {
     "data": {
      "text/html": [
       "<div>\n",
       "<style scoped>\n",
       "    .dataframe tbody tr th:only-of-type {\n",
       "        vertical-align: middle;\n",
       "    }\n",
       "\n",
       "    .dataframe tbody tr th {\n",
       "        vertical-align: top;\n",
       "    }\n",
       "\n",
       "    .dataframe thead th {\n",
       "        text-align: right;\n",
       "    }\n",
       "</style>\n",
       "<table border=\"1\" class=\"dataframe\">\n",
       "  <thead>\n",
       "    <tr style=\"text-align: right;\">\n",
       "      <th></th>\n",
       "      <th>image_anchor</th>\n",
       "      <th>id_anchor</th>\n",
       "      <th>image_positive</th>\n",
       "      <th>id_positive</th>\n",
       "      <th>image_negative</th>\n",
       "      <th>id_negative</th>\n",
       "    </tr>\n",
       "  </thead>\n",
       "  <tbody>\n",
       "    <tr>\n",
       "      <th>0</th>\n",
       "      <td>833675975.jpg</td>\n",
       "      <td>w_0003639</td>\n",
       "      <td>833675975.jpg</td>\n",
       "      <td>w_0003639</td>\n",
       "      <td>df4bbd82a.jpg</td>\n",
       "      <td>w_ffe8693</td>\n",
       "    </tr>\n",
       "    <tr>\n",
       "      <th>1</th>\n",
       "      <td>2fe2cc5c0.jpg</td>\n",
       "      <td>w_0003c59</td>\n",
       "      <td>2fe2cc5c0.jpg</td>\n",
       "      <td>w_0003c59</td>\n",
       "      <td>d3967e1df.jpg</td>\n",
       "      <td>w_ffcf5fe</td>\n",
       "    </tr>\n",
       "    <tr>\n",
       "      <th>2</th>\n",
       "      <td>2f31725c6.jpg</td>\n",
       "      <td>w_0027efa</td>\n",
       "      <td>ee87a2369.jpg</td>\n",
       "      <td>w_0027efa</td>\n",
       "      <td>9dd320bb3.jpg</td>\n",
       "      <td>w_ffa6d42</td>\n",
       "    </tr>\n",
       "    <tr>\n",
       "      <th>3</th>\n",
       "      <td>30eac8c9f.jpg</td>\n",
       "      <td>w_0027efa</td>\n",
       "      <td>cc6c1a235.jpg</td>\n",
       "      <td>w_0027efa</td>\n",
       "      <td>5ac086036.jpg</td>\n",
       "      <td>w_ff94900</td>\n",
       "    </tr>\n",
       "    <tr>\n",
       "      <th>4</th>\n",
       "      <td>3c4235ad2.jpg</td>\n",
       "      <td>w_0027efa</td>\n",
       "      <td>c5658abf0.jpg</td>\n",
       "      <td>w_0027efa</td>\n",
       "      <td>6404e5b70.jpg</td>\n",
       "      <td>w_ff7a4ae</td>\n",
       "    </tr>\n",
       "  </tbody>\n",
       "</table>\n",
       "</div>"
      ],
      "text/plain": [
       "    image_anchor  id_anchor image_positive id_positive image_negative  \\\n",
       "0  833675975.jpg  w_0003639  833675975.jpg   w_0003639  df4bbd82a.jpg   \n",
       "1  2fe2cc5c0.jpg  w_0003c59  2fe2cc5c0.jpg   w_0003c59  d3967e1df.jpg   \n",
       "2  2f31725c6.jpg  w_0027efa  ee87a2369.jpg   w_0027efa  9dd320bb3.jpg   \n",
       "3  30eac8c9f.jpg  w_0027efa  cc6c1a235.jpg   w_0027efa  5ac086036.jpg   \n",
       "4  3c4235ad2.jpg  w_0027efa  c5658abf0.jpg   w_0027efa  6404e5b70.jpg   \n",
       "\n",
       "  id_negative  \n",
       "0   w_ffe8693  \n",
       "1   w_ffcf5fe  \n",
       "2   w_ffa6d42  \n",
       "3   w_ff94900  \n",
       "4   w_ff7a4ae  "
      ]
     },
     "execution_count": 12,
     "metadata": {},
     "output_type": "execute_result"
    }
   ],
   "source": [
    "train_mapping.head()"
   ]
  },
  {
   "cell_type": "code",
   "execution_count": 13,
   "metadata": {},
   "outputs": [
    {
     "data": {
      "text/html": [
       "<div>\n",
       "<style scoped>\n",
       "    .dataframe tbody tr th:only-of-type {\n",
       "        vertical-align: middle;\n",
       "    }\n",
       "\n",
       "    .dataframe tbody tr th {\n",
       "        vertical-align: top;\n",
       "    }\n",
       "\n",
       "    .dataframe thead th {\n",
       "        text-align: right;\n",
       "    }\n",
       "</style>\n",
       "<table border=\"1\" class=\"dataframe\">\n",
       "  <thead>\n",
       "    <tr style=\"text-align: right;\">\n",
       "      <th></th>\n",
       "      <th>image_anchor</th>\n",
       "      <th>id_anchor</th>\n",
       "      <th>image_positive</th>\n",
       "      <th>id_positive</th>\n",
       "      <th>image_negative</th>\n",
       "      <th>id_negative</th>\n",
       "    </tr>\n",
       "  </thead>\n",
       "  <tbody>\n",
       "    <tr>\n",
       "      <th>2</th>\n",
       "      <td>2f31725c6.jpg</td>\n",
       "      <td>w_0027efa</td>\n",
       "      <td>ee87a2369.jpg</td>\n",
       "      <td>w_0027efa</td>\n",
       "      <td>9dd320bb3.jpg</td>\n",
       "      <td>w_ffa6d42</td>\n",
       "    </tr>\n",
       "    <tr>\n",
       "      <th>3</th>\n",
       "      <td>30eac8c9f.jpg</td>\n",
       "      <td>w_0027efa</td>\n",
       "      <td>cc6c1a235.jpg</td>\n",
       "      <td>w_0027efa</td>\n",
       "      <td>5ac086036.jpg</td>\n",
       "      <td>w_ff94900</td>\n",
       "    </tr>\n",
       "    <tr>\n",
       "      <th>4</th>\n",
       "      <td>3c4235ad2.jpg</td>\n",
       "      <td>w_0027efa</td>\n",
       "      <td>c5658abf0.jpg</td>\n",
       "      <td>w_0027efa</td>\n",
       "      <td>6404e5b70.jpg</td>\n",
       "      <td>w_ff7a4ae</td>\n",
       "    </tr>\n",
       "    <tr>\n",
       "      <th>5</th>\n",
       "      <td>47bd1d3bb.jpg</td>\n",
       "      <td>w_0027efa</td>\n",
       "      <td>b2acbd8df.jpg</td>\n",
       "      <td>w_0027efa</td>\n",
       "      <td>9389e3865.jpg</td>\n",
       "      <td>w_ff65f67</td>\n",
       "    </tr>\n",
       "    <tr>\n",
       "      <th>6</th>\n",
       "      <td>5934e01ea.jpg</td>\n",
       "      <td>w_0027efa</td>\n",
       "      <td>7b9a5e4d8.jpg</td>\n",
       "      <td>w_0027efa</td>\n",
       "      <td>d5ce140aa.jpg</td>\n",
       "      <td>w_ff5fc91</td>\n",
       "    </tr>\n",
       "  </tbody>\n",
       "</table>\n",
       "</div>"
      ],
      "text/plain": [
       "    image_anchor  id_anchor image_positive id_positive image_negative  \\\n",
       "2  2f31725c6.jpg  w_0027efa  ee87a2369.jpg   w_0027efa  9dd320bb3.jpg   \n",
       "3  30eac8c9f.jpg  w_0027efa  cc6c1a235.jpg   w_0027efa  5ac086036.jpg   \n",
       "4  3c4235ad2.jpg  w_0027efa  c5658abf0.jpg   w_0027efa  6404e5b70.jpg   \n",
       "5  47bd1d3bb.jpg  w_0027efa  b2acbd8df.jpg   w_0027efa  9389e3865.jpg   \n",
       "6  5934e01ea.jpg  w_0027efa  7b9a5e4d8.jpg   w_0027efa  d5ce140aa.jpg   \n",
       "\n",
       "  id_negative  \n",
       "2   w_ffa6d42  \n",
       "3   w_ff94900  \n",
       "4   w_ff7a4ae  \n",
       "5   w_ff65f67  \n",
       "6   w_ff5fc91  "
      ]
     },
     "execution_count": 13,
     "metadata": {},
     "output_type": "execute_result"
    }
   ],
   "source": [
    "train_mapping.loc[train_mapping['image_anchor'] != train_mapping['image_positive']].head()"
   ]
  },
  {
   "cell_type": "code",
   "execution_count": 14,
   "metadata": {},
   "outputs": [],
   "source": [
    "def strong_aug(p=0.5):\n",
    "    return Compose([\n",
    "        RandomRotate90(),\n",
    "        Flip(),\n",
    "        Transpose(),\n",
    "        OneOf([\n",
    "            IAAAdditiveGaussianNoise(),\n",
    "            GaussNoise(),\n",
    "        ], p=0.2),\n",
    "        OneOf([\n",
    "            MotionBlur(p=0.2),\n",
    "            MedianBlur(blur_limit=3, p=0.1),\n",
    "            Blur(blur_limit=3, p=0.1),\n",
    "        ], p=0.2),\n",
    "        ShiftScaleRotate(shift_limit=0.0625, scale_limit=0.2, rotate_limit=45, p=0.2),\n",
    "        OneOf([\n",
    "            OpticalDistortion(p=0.3),\n",
    "            GridDistortion(p=0.1),\n",
    "            IAAPiecewiseAffine(p=0.3),\n",
    "        ], p=0.2),\n",
    "        OneOf([\n",
    "            CLAHE(clip_limit=2),\n",
    "            IAASharpen(),\n",
    "            IAAEmboss(),\n",
    "            RandomContrast(),\n",
    "            RandomBrightness(),\n",
    "        ], p=0.3),\n",
    "        HueSaturationValue(p=0.3),\n",
    "    ], p=p)"
   ]
  },
  {
   "cell_type": "code",
   "execution_count": 15,
   "metadata": {},
   "outputs": [],
   "source": [
    "def get_batch_count(triplet_mapping, batch_size):\n",
    "    return int(math.ceil(len(triplet_mapping) / batch_size))"
   ]
  },
  {
   "cell_type": "code",
   "execution_count": 16,
   "metadata": {},
   "outputs": [],
   "source": [
    "def triplet_generator(triplet_mapping, batch_size):\n",
    "    augmenter = strong_aug()\n",
    "    always_augmenter = strong_aug(p=1.0)\n",
    "    while True:\n",
    "        for batch in range(get_batch_count(triplet_mapping, batch_size)):\n",
    "            anchor_fnames = triplet_mapping['image_anchor'].values[batch * batch_size : (batch + 1) * batch_size]\n",
    "            positive_fnames = triplet_mapping['image_positive'].values[batch * batch_size : (batch + 1) * batch_size]\n",
    "            negative_fnames = triplet_mapping['image_negative'].values[batch * batch_size : (batch + 1) * batch_size]\n",
    "            X = []\n",
    "            for anchor_fname, positive_fname, negative_fname in zip(anchor_fnames, positive_fnames, negative_fnames):\n",
    "                anchor_image = images[anchor_fname]\n",
    "                positive_image = images[positive_fname]\n",
    "                negative_image = images[negative_fname]\n",
    "                if anchor_fname == positive_fname:\n",
    "                    positive_image = always_augmenter(image=positive_image)['image']\n",
    "                    negative_image = augmenter(image=negative_image)['image']\n",
    "                else:\n",
    "                    anchor_image = augmenter(image=anchor_image)['image']\n",
    "                    positive_image = augmenter(image=positive_image)['image']\n",
    "                    negative_image = augmenter(image=negative_image)['image']\n",
    "                X.append((anchor_image, positive_image, negative_image))\n",
    "            X_keras = [\n",
    "                preprocess_input(np.array([item[input_idx] for item in X]))\n",
    "                for input_idx in range(3)\n",
    "            ]\n",
    "            y = np.zeros([X_keras[0].shape[0], 1])\n",
    "            yield X_keras, y"
   ]
  },
  {
   "cell_type": "code",
   "execution_count": 17,
   "metadata": {},
   "outputs": [],
   "source": [
    "class L2Normalize(Lambda):\n",
    "    def __init__(self, eps=1e-8):\n",
    "        super(L2Normalize, self).__init__(lambda X: L2Normalize.l2_normalize(X, eps))\n",
    "    \n",
    "    @staticmethod\n",
    "    def l2_normalize(X, eps):\n",
    "        l2_norm = K.sqrt(K.sum(X ** 2, axis=-1))\n",
    "        return X / (K.reshape(l2_norm, (-1, 1)) + eps)"
   ]
  },
  {
   "cell_type": "code",
   "execution_count": 18,
   "metadata": {},
   "outputs": [
    {
     "name": "stdout",
     "output_type": "stream",
     "text": [
      "__________________________________________________________________________________________________\n",
      "Layer (type)                    Output Shape         Param #     Connected to                     \n",
      "==================================================================================================\n",
      "input_1 (InputLayer)            (None, None, None, 3 0                                            \n",
      "__________________________________________________________________________________________________\n",
      "conv1_pad (ZeroPadding2D)       (None, None, None, 3 0           input_1[0][0]                    \n",
      "__________________________________________________________________________________________________\n",
      "conv1 (Conv2D)                  (None, None, None, 6 9472        conv1_pad[0][0]                  \n",
      "__________________________________________________________________________________________________\n",
      "bn_conv1 (BatchNormalization)   (None, None, None, 6 256         conv1[0][0]                      \n",
      "__________________________________________________________________________________________________\n",
      "activation_1 (Activation)       (None, None, None, 6 0           bn_conv1[0][0]                   \n",
      "__________________________________________________________________________________________________\n",
      "pool1_pad (ZeroPadding2D)       (None, None, None, 6 0           activation_1[0][0]               \n",
      "__________________________________________________________________________________________________\n",
      "max_pooling2d_1 (MaxPooling2D)  (None, None, None, 6 0           pool1_pad[0][0]                  \n",
      "__________________________________________________________________________________________________\n",
      "res2a_branch2a (Conv2D)         (None, None, None, 6 4160        max_pooling2d_1[0][0]            \n",
      "__________________________________________________________________________________________________\n",
      "bn2a_branch2a (BatchNormalizati (None, None, None, 6 256         res2a_branch2a[0][0]             \n",
      "__________________________________________________________________________________________________\n",
      "activation_2 (Activation)       (None, None, None, 6 0           bn2a_branch2a[0][0]              \n",
      "__________________________________________________________________________________________________\n",
      "res2a_branch2b (Conv2D)         (None, None, None, 6 36928       activation_2[0][0]               \n",
      "__________________________________________________________________________________________________\n",
      "bn2a_branch2b (BatchNormalizati (None, None, None, 6 256         res2a_branch2b[0][0]             \n",
      "__________________________________________________________________________________________________\n",
      "activation_3 (Activation)       (None, None, None, 6 0           bn2a_branch2b[0][0]              \n",
      "__________________________________________________________________________________________________\n",
      "res2a_branch2c (Conv2D)         (None, None, None, 2 16640       activation_3[0][0]               \n",
      "__________________________________________________________________________________________________\n",
      "res2a_branch1 (Conv2D)          (None, None, None, 2 16640       max_pooling2d_1[0][0]            \n",
      "__________________________________________________________________________________________________\n",
      "bn2a_branch2c (BatchNormalizati (None, None, None, 2 1024        res2a_branch2c[0][0]             \n",
      "__________________________________________________________________________________________________\n",
      "bn2a_branch1 (BatchNormalizatio (None, None, None, 2 1024        res2a_branch1[0][0]              \n",
      "__________________________________________________________________________________________________\n",
      "add_1 (Add)                     (None, None, None, 2 0           bn2a_branch2c[0][0]              \n",
      "                                                                 bn2a_branch1[0][0]               \n",
      "__________________________________________________________________________________________________\n",
      "activation_4 (Activation)       (None, None, None, 2 0           add_1[0][0]                      \n",
      "__________________________________________________________________________________________________\n",
      "res2b_branch2a (Conv2D)         (None, None, None, 6 16448       activation_4[0][0]               \n",
      "__________________________________________________________________________________________________\n",
      "bn2b_branch2a (BatchNormalizati (None, None, None, 6 256         res2b_branch2a[0][0]             \n",
      "__________________________________________________________________________________________________\n",
      "activation_5 (Activation)       (None, None, None, 6 0           bn2b_branch2a[0][0]              \n",
      "__________________________________________________________________________________________________\n",
      "res2b_branch2b (Conv2D)         (None, None, None, 6 36928       activation_5[0][0]               \n",
      "__________________________________________________________________________________________________\n",
      "bn2b_branch2b (BatchNormalizati (None, None, None, 6 256         res2b_branch2b[0][0]             \n",
      "__________________________________________________________________________________________________\n",
      "activation_6 (Activation)       (None, None, None, 6 0           bn2b_branch2b[0][0]              \n",
      "__________________________________________________________________________________________________\n",
      "res2b_branch2c (Conv2D)         (None, None, None, 2 16640       activation_6[0][0]               \n",
      "__________________________________________________________________________________________________\n",
      "bn2b_branch2c (BatchNormalizati (None, None, None, 2 1024        res2b_branch2c[0][0]             \n",
      "__________________________________________________________________________________________________\n",
      "add_2 (Add)                     (None, None, None, 2 0           bn2b_branch2c[0][0]              \n",
      "                                                                 activation_4[0][0]               \n",
      "__________________________________________________________________________________________________\n",
      "activation_7 (Activation)       (None, None, None, 2 0           add_2[0][0]                      \n",
      "__________________________________________________________________________________________________\n",
      "res2c_branch2a (Conv2D)         (None, None, None, 6 16448       activation_7[0][0]               \n",
      "__________________________________________________________________________________________________\n",
      "bn2c_branch2a (BatchNormalizati (None, None, None, 6 256         res2c_branch2a[0][0]             \n",
      "__________________________________________________________________________________________________\n",
      "activation_8 (Activation)       (None, None, None, 6 0           bn2c_branch2a[0][0]              \n",
      "__________________________________________________________________________________________________\n",
      "res2c_branch2b (Conv2D)         (None, None, None, 6 36928       activation_8[0][0]               \n",
      "__________________________________________________________________________________________________\n",
      "bn2c_branch2b (BatchNormalizati (None, None, None, 6 256         res2c_branch2b[0][0]             \n",
      "__________________________________________________________________________________________________\n",
      "activation_9 (Activation)       (None, None, None, 6 0           bn2c_branch2b[0][0]              \n",
      "__________________________________________________________________________________________________\n",
      "res2c_branch2c (Conv2D)         (None, None, None, 2 16640       activation_9[0][0]               \n",
      "__________________________________________________________________________________________________\n",
      "bn2c_branch2c (BatchNormalizati (None, None, None, 2 1024        res2c_branch2c[0][0]             \n",
      "__________________________________________________________________________________________________\n",
      "add_3 (Add)                     (None, None, None, 2 0           bn2c_branch2c[0][0]              \n",
      "                                                                 activation_7[0][0]               \n",
      "__________________________________________________________________________________________________\n",
      "activation_10 (Activation)      (None, None, None, 2 0           add_3[0][0]                      \n",
      "__________________________________________________________________________________________________\n",
      "res3a_branch2a (Conv2D)         (None, None, None, 1 32896       activation_10[0][0]              \n",
      "__________________________________________________________________________________________________\n",
      "bn3a_branch2a (BatchNormalizati (None, None, None, 1 512         res3a_branch2a[0][0]             \n",
      "__________________________________________________________________________________________________\n",
      "activation_11 (Activation)      (None, None, None, 1 0           bn3a_branch2a[0][0]              \n",
      "__________________________________________________________________________________________________\n",
      "res3a_branch2b (Conv2D)         (None, None, None, 1 147584      activation_11[0][0]              \n",
      "__________________________________________________________________________________________________\n",
      "bn3a_branch2b (BatchNormalizati (None, None, None, 1 512         res3a_branch2b[0][0]             \n",
      "__________________________________________________________________________________________________\n",
      "activation_12 (Activation)      (None, None, None, 1 0           bn3a_branch2b[0][0]              \n",
      "__________________________________________________________________________________________________\n",
      "res3a_branch2c (Conv2D)         (None, None, None, 5 66048       activation_12[0][0]              \n",
      "__________________________________________________________________________________________________\n",
      "res3a_branch1 (Conv2D)          (None, None, None, 5 131584      activation_10[0][0]              \n",
      "__________________________________________________________________________________________________\n",
      "bn3a_branch2c (BatchNormalizati (None, None, None, 5 2048        res3a_branch2c[0][0]             \n",
      "__________________________________________________________________________________________________\n",
      "bn3a_branch1 (BatchNormalizatio (None, None, None, 5 2048        res3a_branch1[0][0]              \n",
      "__________________________________________________________________________________________________\n",
      "add_4 (Add)                     (None, None, None, 5 0           bn3a_branch2c[0][0]              \n",
      "                                                                 bn3a_branch1[0][0]               \n",
      "__________________________________________________________________________________________________\n",
      "activation_13 (Activation)      (None, None, None, 5 0           add_4[0][0]                      \n",
      "__________________________________________________________________________________________________\n",
      "res3b_branch2a (Conv2D)         (None, None, None, 1 65664       activation_13[0][0]              \n",
      "__________________________________________________________________________________________________\n",
      "bn3b_branch2a (BatchNormalizati (None, None, None, 1 512         res3b_branch2a[0][0]             \n",
      "__________________________________________________________________________________________________\n",
      "activation_14 (Activation)      (None, None, None, 1 0           bn3b_branch2a[0][0]              \n",
      "__________________________________________________________________________________________________\n",
      "res3b_branch2b (Conv2D)         (None, None, None, 1 147584      activation_14[0][0]              \n",
      "__________________________________________________________________________________________________\n",
      "bn3b_branch2b (BatchNormalizati (None, None, None, 1 512         res3b_branch2b[0][0]             \n",
      "__________________________________________________________________________________________________\n",
      "activation_15 (Activation)      (None, None, None, 1 0           bn3b_branch2b[0][0]              \n",
      "__________________________________________________________________________________________________\n",
      "res3b_branch2c (Conv2D)         (None, None, None, 5 66048       activation_15[0][0]              \n",
      "__________________________________________________________________________________________________\n",
      "bn3b_branch2c (BatchNormalizati (None, None, None, 5 2048        res3b_branch2c[0][0]             \n",
      "__________________________________________________________________________________________________\n",
      "add_5 (Add)                     (None, None, None, 5 0           bn3b_branch2c[0][0]              \n",
      "                                                                 activation_13[0][0]              \n",
      "__________________________________________________________________________________________________\n",
      "activation_16 (Activation)      (None, None, None, 5 0           add_5[0][0]                      \n",
      "__________________________________________________________________________________________________\n",
      "res3c_branch2a (Conv2D)         (None, None, None, 1 65664       activation_16[0][0]              \n",
      "__________________________________________________________________________________________________\n",
      "bn3c_branch2a (BatchNormalizati (None, None, None, 1 512         res3c_branch2a[0][0]             \n",
      "__________________________________________________________________________________________________\n",
      "activation_17 (Activation)      (None, None, None, 1 0           bn3c_branch2a[0][0]              \n",
      "__________________________________________________________________________________________________\n",
      "res3c_branch2b (Conv2D)         (None, None, None, 1 147584      activation_17[0][0]              \n",
      "__________________________________________________________________________________________________\n",
      "bn3c_branch2b (BatchNormalizati (None, None, None, 1 512         res3c_branch2b[0][0]             \n",
      "__________________________________________________________________________________________________\n",
      "activation_18 (Activation)      (None, None, None, 1 0           bn3c_branch2b[0][0]              \n",
      "__________________________________________________________________________________________________\n",
      "res3c_branch2c (Conv2D)         (None, None, None, 5 66048       activation_18[0][0]              \n",
      "__________________________________________________________________________________________________\n",
      "bn3c_branch2c (BatchNormalizati (None, None, None, 5 2048        res3c_branch2c[0][0]             \n",
      "__________________________________________________________________________________________________\n",
      "add_6 (Add)                     (None, None, None, 5 0           bn3c_branch2c[0][0]              \n",
      "                                                                 activation_16[0][0]              \n",
      "__________________________________________________________________________________________________\n",
      "activation_19 (Activation)      (None, None, None, 5 0           add_6[0][0]                      \n",
      "__________________________________________________________________________________________________\n",
      "res3d_branch2a (Conv2D)         (None, None, None, 1 65664       activation_19[0][0]              \n",
      "__________________________________________________________________________________________________\n",
      "bn3d_branch2a (BatchNormalizati (None, None, None, 1 512         res3d_branch2a[0][0]             \n",
      "__________________________________________________________________________________________________\n",
      "activation_20 (Activation)      (None, None, None, 1 0           bn3d_branch2a[0][0]              \n",
      "__________________________________________________________________________________________________\n",
      "res3d_branch2b (Conv2D)         (None, None, None, 1 147584      activation_20[0][0]              \n",
      "__________________________________________________________________________________________________\n",
      "bn3d_branch2b (BatchNormalizati (None, None, None, 1 512         res3d_branch2b[0][0]             \n",
      "__________________________________________________________________________________________________\n",
      "activation_21 (Activation)      (None, None, None, 1 0           bn3d_branch2b[0][0]              \n",
      "__________________________________________________________________________________________________\n",
      "res3d_branch2c (Conv2D)         (None, None, None, 5 66048       activation_21[0][0]              \n",
      "__________________________________________________________________________________________________\n",
      "bn3d_branch2c (BatchNormalizati (None, None, None, 5 2048        res3d_branch2c[0][0]             \n",
      "__________________________________________________________________________________________________\n",
      "add_7 (Add)                     (None, None, None, 5 0           bn3d_branch2c[0][0]              \n",
      "                                                                 activation_19[0][0]              \n",
      "__________________________________________________________________________________________________\n",
      "activation_22 (Activation)      (None, None, None, 5 0           add_7[0][0]                      \n",
      "__________________________________________________________________________________________________\n",
      "res4a_branch2a (Conv2D)         (None, None, None, 2 131328      activation_22[0][0]              \n",
      "__________________________________________________________________________________________________\n",
      "bn4a_branch2a (BatchNormalizati (None, None, None, 2 1024        res4a_branch2a[0][0]             \n",
      "__________________________________________________________________________________________________\n",
      "activation_23 (Activation)      (None, None, None, 2 0           bn4a_branch2a[0][0]              \n",
      "__________________________________________________________________________________________________\n",
      "res4a_branch2b (Conv2D)         (None, None, None, 2 590080      activation_23[0][0]              \n",
      "__________________________________________________________________________________________________\n",
      "bn4a_branch2b (BatchNormalizati (None, None, None, 2 1024        res4a_branch2b[0][0]             \n",
      "__________________________________________________________________________________________________\n",
      "activation_24 (Activation)      (None, None, None, 2 0           bn4a_branch2b[0][0]              \n",
      "__________________________________________________________________________________________________\n",
      "res4a_branch2c (Conv2D)         (None, None, None, 1 263168      activation_24[0][0]              \n",
      "__________________________________________________________________________________________________\n",
      "res4a_branch1 (Conv2D)          (None, None, None, 1 525312      activation_22[0][0]              \n",
      "__________________________________________________________________________________________________\n",
      "bn4a_branch2c (BatchNormalizati (None, None, None, 1 4096        res4a_branch2c[0][0]             \n",
      "__________________________________________________________________________________________________\n",
      "bn4a_branch1 (BatchNormalizatio (None, None, None, 1 4096        res4a_branch1[0][0]              \n",
      "__________________________________________________________________________________________________\n",
      "add_8 (Add)                     (None, None, None, 1 0           bn4a_branch2c[0][0]              \n",
      "                                                                 bn4a_branch1[0][0]               \n",
      "__________________________________________________________________________________________________\n",
      "activation_25 (Activation)      (None, None, None, 1 0           add_8[0][0]                      \n",
      "__________________________________________________________________________________________________\n",
      "res4b_branch2a (Conv2D)         (None, None, None, 2 262400      activation_25[0][0]              \n",
      "__________________________________________________________________________________________________\n",
      "bn4b_branch2a (BatchNormalizati (None, None, None, 2 1024        res4b_branch2a[0][0]             \n",
      "__________________________________________________________________________________________________\n",
      "activation_26 (Activation)      (None, None, None, 2 0           bn4b_branch2a[0][0]              \n",
      "__________________________________________________________________________________________________\n",
      "res4b_branch2b (Conv2D)         (None, None, None, 2 590080      activation_26[0][0]              \n",
      "__________________________________________________________________________________________________\n",
      "bn4b_branch2b (BatchNormalizati (None, None, None, 2 1024        res4b_branch2b[0][0]             \n",
      "__________________________________________________________________________________________________\n",
      "activation_27 (Activation)      (None, None, None, 2 0           bn4b_branch2b[0][0]              \n",
      "__________________________________________________________________________________________________\n",
      "res4b_branch2c (Conv2D)         (None, None, None, 1 263168      activation_27[0][0]              \n",
      "__________________________________________________________________________________________________\n",
      "bn4b_branch2c (BatchNormalizati (None, None, None, 1 4096        res4b_branch2c[0][0]             \n",
      "__________________________________________________________________________________________________\n",
      "add_9 (Add)                     (None, None, None, 1 0           bn4b_branch2c[0][0]              \n",
      "                                                                 activation_25[0][0]              \n",
      "__________________________________________________________________________________________________\n",
      "activation_28 (Activation)      (None, None, None, 1 0           add_9[0][0]                      \n",
      "__________________________________________________________________________________________________\n",
      "res4c_branch2a (Conv2D)         (None, None, None, 2 262400      activation_28[0][0]              \n",
      "__________________________________________________________________________________________________\n",
      "bn4c_branch2a (BatchNormalizati (None, None, None, 2 1024        res4c_branch2a[0][0]             \n",
      "__________________________________________________________________________________________________\n",
      "activation_29 (Activation)      (None, None, None, 2 0           bn4c_branch2a[0][0]              \n",
      "__________________________________________________________________________________________________\n",
      "res4c_branch2b (Conv2D)         (None, None, None, 2 590080      activation_29[0][0]              \n",
      "__________________________________________________________________________________________________\n",
      "bn4c_branch2b (BatchNormalizati (None, None, None, 2 1024        res4c_branch2b[0][0]             \n",
      "__________________________________________________________________________________________________\n",
      "activation_30 (Activation)      (None, None, None, 2 0           bn4c_branch2b[0][0]              \n",
      "__________________________________________________________________________________________________\n",
      "res4c_branch2c (Conv2D)         (None, None, None, 1 263168      activation_30[0][0]              \n",
      "__________________________________________________________________________________________________\n",
      "bn4c_branch2c (BatchNormalizati (None, None, None, 1 4096        res4c_branch2c[0][0]             \n",
      "__________________________________________________________________________________________________\n",
      "add_10 (Add)                    (None, None, None, 1 0           bn4c_branch2c[0][0]              \n",
      "                                                                 activation_28[0][0]              \n",
      "__________________________________________________________________________________________________\n",
      "activation_31 (Activation)      (None, None, None, 1 0           add_10[0][0]                     \n",
      "__________________________________________________________________________________________________\n",
      "res4d_branch2a (Conv2D)         (None, None, None, 2 262400      activation_31[0][0]              \n",
      "__________________________________________________________________________________________________\n",
      "bn4d_branch2a (BatchNormalizati (None, None, None, 2 1024        res4d_branch2a[0][0]             \n",
      "__________________________________________________________________________________________________\n",
      "activation_32 (Activation)      (None, None, None, 2 0           bn4d_branch2a[0][0]              \n",
      "__________________________________________________________________________________________________\n",
      "res4d_branch2b (Conv2D)         (None, None, None, 2 590080      activation_32[0][0]              \n",
      "__________________________________________________________________________________________________\n",
      "bn4d_branch2b (BatchNormalizati (None, None, None, 2 1024        res4d_branch2b[0][0]             \n",
      "__________________________________________________________________________________________________\n",
      "activation_33 (Activation)      (None, None, None, 2 0           bn4d_branch2b[0][0]              \n",
      "__________________________________________________________________________________________________\n",
      "res4d_branch2c (Conv2D)         (None, None, None, 1 263168      activation_33[0][0]              \n",
      "__________________________________________________________________________________________________\n",
      "bn4d_branch2c (BatchNormalizati (None, None, None, 1 4096        res4d_branch2c[0][0]             \n",
      "__________________________________________________________________________________________________\n",
      "add_11 (Add)                    (None, None, None, 1 0           bn4d_branch2c[0][0]              \n",
      "                                                                 activation_31[0][0]              \n",
      "__________________________________________________________________________________________________\n",
      "activation_34 (Activation)      (None, None, None, 1 0           add_11[0][0]                     \n",
      "__________________________________________________________________________________________________\n",
      "res4e_branch2a (Conv2D)         (None, None, None, 2 262400      activation_34[0][0]              \n",
      "__________________________________________________________________________________________________\n",
      "bn4e_branch2a (BatchNormalizati (None, None, None, 2 1024        res4e_branch2a[0][0]             \n",
      "__________________________________________________________________________________________________\n",
      "activation_35 (Activation)      (None, None, None, 2 0           bn4e_branch2a[0][0]              \n",
      "__________________________________________________________________________________________________\n",
      "res4e_branch2b (Conv2D)         (None, None, None, 2 590080      activation_35[0][0]              \n",
      "__________________________________________________________________________________________________\n",
      "bn4e_branch2b (BatchNormalizati (None, None, None, 2 1024        res4e_branch2b[0][0]             \n",
      "__________________________________________________________________________________________________\n",
      "activation_36 (Activation)      (None, None, None, 2 0           bn4e_branch2b[0][0]              \n",
      "__________________________________________________________________________________________________\n",
      "res4e_branch2c (Conv2D)         (None, None, None, 1 263168      activation_36[0][0]              \n",
      "__________________________________________________________________________________________________\n",
      "bn4e_branch2c (BatchNormalizati (None, None, None, 1 4096        res4e_branch2c[0][0]             \n",
      "__________________________________________________________________________________________________\n",
      "add_12 (Add)                    (None, None, None, 1 0           bn4e_branch2c[0][0]              \n",
      "                                                                 activation_34[0][0]              \n",
      "__________________________________________________________________________________________________\n",
      "activation_37 (Activation)      (None, None, None, 1 0           add_12[0][0]                     \n",
      "__________________________________________________________________________________________________\n",
      "res4f_branch2a (Conv2D)         (None, None, None, 2 262400      activation_37[0][0]              \n",
      "__________________________________________________________________________________________________\n",
      "bn4f_branch2a (BatchNormalizati (None, None, None, 2 1024        res4f_branch2a[0][0]             \n",
      "__________________________________________________________________________________________________\n",
      "activation_38 (Activation)      (None, None, None, 2 0           bn4f_branch2a[0][0]              \n",
      "__________________________________________________________________________________________________\n",
      "res4f_branch2b (Conv2D)         (None, None, None, 2 590080      activation_38[0][0]              \n",
      "__________________________________________________________________________________________________\n",
      "bn4f_branch2b (BatchNormalizati (None, None, None, 2 1024        res4f_branch2b[0][0]             \n",
      "__________________________________________________________________________________________________\n",
      "activation_39 (Activation)      (None, None, None, 2 0           bn4f_branch2b[0][0]              \n",
      "__________________________________________________________________________________________________\n",
      "res4f_branch2c (Conv2D)         (None, None, None, 1 263168      activation_39[0][0]              \n",
      "__________________________________________________________________________________________________\n",
      "bn4f_branch2c (BatchNormalizati (None, None, None, 1 4096        res4f_branch2c[0][0]             \n",
      "__________________________________________________________________________________________________\n",
      "add_13 (Add)                    (None, None, None, 1 0           bn4f_branch2c[0][0]              \n",
      "                                                                 activation_37[0][0]              \n",
      "__________________________________________________________________________________________________\n",
      "activation_40 (Activation)      (None, None, None, 1 0           add_13[0][0]                     \n",
      "__________________________________________________________________________________________________\n",
      "res5a_branch2a (Conv2D)         (None, None, None, 5 524800      activation_40[0][0]              \n",
      "__________________________________________________________________________________________________\n",
      "bn5a_branch2a (BatchNormalizati (None, None, None, 5 2048        res5a_branch2a[0][0]             \n",
      "__________________________________________________________________________________________________\n",
      "activation_41 (Activation)      (None, None, None, 5 0           bn5a_branch2a[0][0]              \n",
      "__________________________________________________________________________________________________\n",
      "res5a_branch2b (Conv2D)         (None, None, None, 5 2359808     activation_41[0][0]              \n",
      "__________________________________________________________________________________________________\n",
      "bn5a_branch2b (BatchNormalizati (None, None, None, 5 2048        res5a_branch2b[0][0]             \n",
      "__________________________________________________________________________________________________\n",
      "activation_42 (Activation)      (None, None, None, 5 0           bn5a_branch2b[0][0]              \n",
      "__________________________________________________________________________________________________\n",
      "res5a_branch2c (Conv2D)         (None, None, None, 2 1050624     activation_42[0][0]              \n",
      "__________________________________________________________________________________________________\n",
      "res5a_branch1 (Conv2D)          (None, None, None, 2 2099200     activation_40[0][0]              \n",
      "__________________________________________________________________________________________________\n",
      "bn5a_branch2c (BatchNormalizati (None, None, None, 2 8192        res5a_branch2c[0][0]             \n",
      "__________________________________________________________________________________________________\n",
      "bn5a_branch1 (BatchNormalizatio (None, None, None, 2 8192        res5a_branch1[0][0]              \n",
      "__________________________________________________________________________________________________\n",
      "add_14 (Add)                    (None, None, None, 2 0           bn5a_branch2c[0][0]              \n",
      "                                                                 bn5a_branch1[0][0]               \n",
      "__________________________________________________________________________________________________\n",
      "activation_43 (Activation)      (None, None, None, 2 0           add_14[0][0]                     \n",
      "__________________________________________________________________________________________________\n",
      "res5b_branch2a (Conv2D)         (None, None, None, 5 1049088     activation_43[0][0]              \n",
      "__________________________________________________________________________________________________\n",
      "bn5b_branch2a (BatchNormalizati (None, None, None, 5 2048        res5b_branch2a[0][0]             \n",
      "__________________________________________________________________________________________________\n",
      "activation_44 (Activation)      (None, None, None, 5 0           bn5b_branch2a[0][0]              \n",
      "__________________________________________________________________________________________________\n",
      "res5b_branch2b (Conv2D)         (None, None, None, 5 2359808     activation_44[0][0]              \n",
      "__________________________________________________________________________________________________\n",
      "bn5b_branch2b (BatchNormalizati (None, None, None, 5 2048        res5b_branch2b[0][0]             \n",
      "__________________________________________________________________________________________________\n",
      "activation_45 (Activation)      (None, None, None, 5 0           bn5b_branch2b[0][0]              \n",
      "__________________________________________________________________________________________________\n",
      "res5b_branch2c (Conv2D)         (None, None, None, 2 1050624     activation_45[0][0]              \n",
      "__________________________________________________________________________________________________\n",
      "bn5b_branch2c (BatchNormalizati (None, None, None, 2 8192        res5b_branch2c[0][0]             \n",
      "__________________________________________________________________________________________________\n",
      "add_15 (Add)                    (None, None, None, 2 0           bn5b_branch2c[0][0]              \n",
      "                                                                 activation_43[0][0]              \n",
      "__________________________________________________________________________________________________\n",
      "activation_46 (Activation)      (None, None, None, 2 0           add_15[0][0]                     \n",
      "__________________________________________________________________________________________________\n",
      "res5c_branch2a (Conv2D)         (None, None, None, 5 1049088     activation_46[0][0]              \n",
      "__________________________________________________________________________________________________\n",
      "bn5c_branch2a (BatchNormalizati (None, None, None, 5 2048        res5c_branch2a[0][0]             \n",
      "__________________________________________________________________________________________________\n",
      "activation_47 (Activation)      (None, None, None, 5 0           bn5c_branch2a[0][0]              \n",
      "__________________________________________________________________________________________________\n",
      "res5c_branch2b (Conv2D)         (None, None, None, 5 2359808     activation_47[0][0]              \n",
      "__________________________________________________________________________________________________\n",
      "bn5c_branch2b (BatchNormalizati (None, None, None, 5 2048        res5c_branch2b[0][0]             \n",
      "__________________________________________________________________________________________________\n",
      "activation_48 (Activation)      (None, None, None, 5 0           bn5c_branch2b[0][0]              \n",
      "__________________________________________________________________________________________________\n",
      "res5c_branch2c (Conv2D)         (None, None, None, 2 1050624     activation_48[0][0]              \n",
      "__________________________________________________________________________________________________\n",
      "bn5c_branch2c (BatchNormalizati (None, None, None, 2 8192        res5c_branch2c[0][0]             \n",
      "__________________________________________________________________________________________________\n",
      "add_16 (Add)                    (None, None, None, 2 0           bn5c_branch2c[0][0]              \n",
      "                                                                 activation_46[0][0]              \n",
      "__________________________________________________________________________________________________\n",
      "activation_49 (Activation)      (None, None, None, 2 0           add_16[0][0]                     \n",
      "__________________________________________________________________________________________________\n",
      "global_max_pooling2d_1 (GlobalM (None, 2048)         0           activation_49[0][0]              \n",
      "==================================================================================================\n",
      "Total params: 23,587,712\n",
      "Trainable params: 23,534,592\n",
      "Non-trainable params: 53,120\n",
      "__________________________________________________________________________________________________\n"
     ]
    }
   ],
   "source": [
    "resnet = ResNet50(include_top=False, weights='imagenet', pooling='max')\n",
    "resnet.summary()"
   ]
  },
  {
   "cell_type": "code",
   "execution_count": 19,
   "metadata": {},
   "outputs": [],
   "source": [
    "def customized_std(X, eps):\n",
    "    return K.sqrt(K.var(X) + eps)\n",
    "\n",
    "def triplet_loss(y_true, y_pred):\n",
    "    y_anchor = 5 * y_pred[:, :VECTOR_SIZE]\n",
    "    y_positive = 5 * y_pred[:, VECTOR_SIZE:2*VECTOR_SIZE]\n",
    "    y_negative = 5 * y_pred[:, 2*VECTOR_SIZE:]\n",
    "    pos_diff = y_positive - y_anchor\n",
    "    neg_diff = y_negative - y_anchor\n",
    "    pos_dist = K.sum(pos_diff ** 2, axis=-1)\n",
    "    neg_dist = K.sum(neg_diff ** 2, axis=-1)\n",
    "    pos_loss = pos_dist + K.var(pos_diff)\n",
    "    neg_loss = -neg_dist + K.var(neg_diff)\n",
    "    loss = pos_loss + neg_loss + 1.0\n",
    "    loss = K.maximum(loss, 0.0)\n",
    "    return loss"
   ]
  },
  {
   "cell_type": "code",
   "execution_count": 20,
   "metadata": {},
   "outputs": [],
   "source": [
    "class MonitorCallback(Callback):\n",
    "    def __init__(self, val_data_size, val_data_generator):\n",
    "        super(MonitorCallback, self).__init__()\n",
    "        self.val_data_size = val_data_size\n",
    "        self.val_data_generator = val_data_generator\n",
    "    \n",
    "    def on_epoch_end(self, *args, **kwargs):\n",
    "        print('')\n",
    "        print('Building validation prediction')\n",
    "        val_pred = self.model.predict_generator(self.val_data_generator, self.val_data_size, verbose=True)\n",
    "        val_anchor = val_pred[:, :VECTOR_SIZE]\n",
    "        val_positive = val_pred[:, VECTOR_SIZE:2*VECTOR_SIZE]\n",
    "        val_negative = val_pred[:, 2*VECTOR_SIZE:]\n",
    "        pos_dist = np.sqrt(((val_positive - val_anchor)**2).sum(axis=-1))\n",
    "        neg_dist = np.sqrt(((val_negative - val_anchor)**2).sum(axis=-1))\n",
    "        print('Positive distance: mean={0}, std={1}'.format(np.mean(pos_dist), np.std(pos_dist)))\n",
    "        print('Negative distance: mean={0}, std={1}'.format(np.mean(neg_dist), np.std(neg_dist)))\n",
    "        print('')"
   ]
  },
  {
   "cell_type": "code",
   "execution_count": 21,
   "metadata": {},
   "outputs": [
    {
     "name": "stdout",
     "output_type": "stream",
     "text": [
      "__________________________________________________________________________________________________\n",
      "Layer (type)                    Output Shape         Param #     Connected to                     \n",
      "==================================================================================================\n",
      "input_2 (InputLayer)            (None, 224, 224, 3)  0                                            \n",
      "__________________________________________________________________________________________________\n",
      "input_3 (InputLayer)            (None, 224, 224, 3)  0                                            \n",
      "__________________________________________________________________________________________________\n",
      "input_4 (InputLayer)            (None, 224, 224, 3)  0                                            \n",
      "__________________________________________________________________________________________________\n",
      "resnet50 (Model)                (None, 2048)         23587712    input_2[0][0]                    \n",
      "                                                                 input_3[0][0]                    \n",
      "                                                                 input_4[0][0]                    \n",
      "__________________________________________________________________________________________________\n",
      "dense_1 (Dense)                 (None, 300)          614700      resnet50[1][0]                   \n",
      "                                                                 resnet50[2][0]                   \n",
      "                                                                 resnet50[3][0]                   \n",
      "__________________________________________________________________________________________________\n",
      "l2_normalize_1 (L2Normalize)    (None, 300)          0           dense_1[0][0]                    \n",
      "__________________________________________________________________________________________________\n",
      "l2_normalize_2 (L2Normalize)    (None, 300)          0           dense_1[1][0]                    \n",
      "__________________________________________________________________________________________________\n",
      "l2_normalize_3 (L2Normalize)    (None, 300)          0           dense_1[2][0]                    \n",
      "__________________________________________________________________________________________________\n",
      "concatenate_1 (Concatenate)     (None, 900)          0           l2_normalize_1[0][0]             \n",
      "                                                                 l2_normalize_2[0][0]             \n",
      "                                                                 l2_normalize_3[0][0]             \n",
      "==================================================================================================\n",
      "Total params: 24,202,412\n",
      "Trainable params: 24,149,292\n",
      "Non-trainable params: 53,120\n",
      "__________________________________________________________________________________________________\n"
     ]
    }
   ],
   "source": [
    "inputs = [Input(shape=(224, 224, 3)) for _ in range(3)]\n",
    "features = [resnet(input) for input in inputs]\n",
    "fc_layer = Dense(VECTOR_SIZE)\n",
    "fc_features = [fc_layer(features_vec) for features_vec in features]\n",
    "l2_normed = [L2Normalize()(fc_features_vec) for fc_features_vec in fc_features]\n",
    "concat = Concatenate(axis=-1)(l2_normed)\n",
    "model = Model(inputs, concat)\n",
    "model.summary()"
   ]
  },
  {
   "cell_type": "code",
   "execution_count": 22,
   "metadata": {},
   "outputs": [],
   "source": [
    "resnet.trainable = False"
   ]
  },
  {
   "cell_type": "code",
   "execution_count": 23,
   "metadata": {},
   "outputs": [],
   "source": [
    "model.compile(loss=triplet_loss, optimizer=SGD(lr=0.001))"
   ]
  },
  {
   "cell_type": "code",
   "execution_count": 24,
   "metadata": {},
   "outputs": [
    {
     "name": "stdout",
     "output_type": "stream",
     "text": [
      "Epoch 1/10\n",
      "1763/1763 [==============================] - 483s 274ms/step - loss: 0.8289 - val_loss: 0.5851\n",
      "\n",
      "Building validation prediction\n",
      "161/161 [==============================] - 44s 272ms/step\n",
      "Positive distance: mean=0.46410560607910156, std=0.05657998099923134\n",
      "Negative distance: mean=0.5117529630661011, std=0.05382446572184563\n",
      "\n",
      "Epoch 2/10\n",
      "1763/1763 [==============================] - 471s 267ms/step - loss: 0.6912 - val_loss: 0.4910\n",
      "\n",
      "Building validation prediction\n",
      "161/161 [==============================] - 41s 257ms/step\n",
      "Positive distance: mean=0.4522697329521179, std=0.05596580728888512\n",
      "Negative distance: mean=0.5093664526939392, std=0.06060449033975601\n",
      "\n",
      "Epoch 3/10\n",
      "1763/1763 [==============================] - 472s 268ms/step - loss: 0.6407 - val_loss: 0.4630\n",
      "\n",
      "Building validation prediction\n",
      "161/161 [==============================] - 42s 259ms/step\n",
      "Positive distance: mean=0.4516405463218689, std=0.05780577287077904\n",
      "Negative distance: mean=0.5176411867141724, std=0.06627438217401505\n",
      "\n",
      "Epoch 4/10\n",
      "1763/1763 [==============================] - 472s 268ms/step - loss: 0.6039 - val_loss: 0.4325\n",
      "\n",
      "Building validation prediction\n",
      "161/161 [==============================] - 42s 258ms/step\n",
      "Positive distance: mean=0.4562961757183075, std=0.058585796505212784\n",
      "Negative distance: mean=0.5280788540840149, std=0.07180031388998032\n",
      "\n",
      "Epoch 5/10\n",
      "1763/1763 [==============================] - 472s 268ms/step - loss: 0.5869 - val_loss: 0.4080\n",
      "\n",
      "Building validation prediction\n",
      "161/161 [==============================] - 42s 259ms/step\n",
      "Positive distance: mean=0.45495375990867615, std=0.05809386074542999\n",
      "Negative distance: mean=0.5346378087997437, std=0.07658038288354874\n",
      "\n",
      "Epoch 6/10\n",
      "1763/1763 [==============================] - 472s 268ms/step - loss: 0.5580 - val_loss: 0.3755\n",
      "\n",
      "Building validation prediction\n",
      "161/161 [==============================] - 42s 260ms/step\n",
      "Positive distance: mean=0.45688357949256897, std=0.05866232514381409\n",
      "Negative distance: mean=0.5394326448440552, std=0.08162812888622284\n",
      "\n",
      "Epoch 7/10\n",
      "1763/1763 [==============================] - 472s 267ms/step - loss: 0.5491 - val_loss: 0.3630\n",
      "\n",
      "Building validation prediction\n",
      "161/161 [==============================] - 42s 259ms/step\n",
      "Positive distance: mean=0.4555138051509857, std=0.06076158583164215\n",
      "Negative distance: mean=0.544767439365387, std=0.08599892258644104\n",
      "\n",
      "Epoch 8/10\n",
      "1763/1763 [==============================] - 472s 267ms/step - loss: 0.5220 - val_loss: 0.4003\n",
      "\n",
      "Building validation prediction\n",
      "161/161 [==============================] - 42s 259ms/step\n",
      "Positive distance: mean=0.46502646803855896, std=0.06069152057170868\n",
      "Negative distance: mean=0.5587047934532166, std=0.09001979976892471\n",
      "\n",
      "Epoch 9/10\n",
      "1763/1763 [==============================] - 472s 268ms/step - loss: 0.5136 - val_loss: 0.3471\n",
      "\n",
      "Building validation prediction\n",
      "161/161 [==============================] - 42s 258ms/step\n",
      "Positive distance: mean=0.464070200920105, std=0.061688195914030075\n",
      "Negative distance: mean=0.560060977935791, std=0.09031535685062408\n",
      "\n",
      "Epoch 10/10\n",
      "1763/1763 [==============================] - 472s 268ms/step - loss: 0.5128 - val_loss: 0.3396\n",
      "\n",
      "Building validation prediction\n",
      "161/161 [==============================] - 41s 258ms/step\n",
      "Positive distance: mean=0.46208712458610535, std=0.06132880970835686\n",
      "Negative distance: mean=0.5595119595527649, std=0.09191985428333282\n",
      "\n"
     ]
    },
    {
     "data": {
      "text/plain": [
       "<keras.callbacks.History at 0x7f393af103c8>"
      ]
     },
     "execution_count": 24,
     "metadata": {},
     "output_type": "execute_result"
    }
   ],
   "source": [
    "model.fit_generator(triplet_generator(train_mapping, 8),\n",
    "                    get_batch_count(train_mapping, 8),\n",
    "                    validation_data=triplet_generator(val_mapping, 8),\n",
    "                    validation_steps=get_batch_count(val_mapping, 8),\n",
    "                    callbacks=[\n",
    "                        MonitorCallback(\n",
    "                            get_batch_count(val_mapping.loc[val_mapping['image_positive'] != val_mapping['image_anchor']], 8),\n",
    "                            triplet_generator(val_mapping.loc[val_mapping['image_positive'] != val_mapping['image_anchor']], 8),\n",
    "                        ),\n",
    "                        ModelCheckpoint('model.h5', save_best_only=True),\n",
    "                    ],\n",
    "                    epochs=10)"
   ]
  },
  {
   "cell_type": "code",
   "execution_count": 70,
   "metadata": {},
   "outputs": [
    {
     "name": "stdout",
     "output_type": "stream",
     "text": [
      "_________________________________________________________________\n",
      "Layer (type)                 Output Shape              Param #   \n",
      "=================================================================\n",
      "resnet50 (Model)             (None, 2048)              23587712  \n",
      "_________________________________________________________________\n",
      "dense_1 (Dense)              (None, 300)               614700    \n",
      "_________________________________________________________________\n",
      "l2_normalize_4 (L2Normalize) (None, 300)               0         \n",
      "=================================================================\n",
      "Total params: 24,202,412\n",
      "Trainable params: 15,064,876\n",
      "Non-trainable params: 9,137,536\n",
      "_________________________________________________________________\n"
     ]
    }
   ],
   "source": [
    "whale2vec = Sequential([\n",
    "    InputLayer((224, 224, 3)),\n",
    "    resnet,\n",
    "    model.layers[4],\n",
    "    L2Normalize()\n",
    "])\n",
    "whale2vec.compile(optimizer=SGD(), loss='mse')\n",
    "whale2vec.summary()"
   ]
  },
  {
   "cell_type": "code",
   "execution_count": 71,
   "metadata": {},
   "outputs": [],
   "source": [
    "def iterate_images(images, fnames, batch_size):\n",
    "    while True:\n",
    "        for batch in range(get_batch_count(fnames, batch_size)):\n",
    "            batch_fnames = fnames[batch * batch_size : (batch + 1) * batch_size]\n",
    "            batch_images = np.array([images[fname] for fname in batch_fnames])\n",
    "            yield preprocess_input(batch_images)"
   ]
  },
  {
   "cell_type": "code",
   "execution_count": 72,
   "metadata": {},
   "outputs": [
    {
     "name": "stdout",
     "output_type": "stream",
     "text": [
      "199/199 [==============================] - 22s 112ms/step\n",
      "199/199 [==============================] - 18s 90ms/step\n",
      "199/199 [==============================] - 18s 90ms/step\n"
     ]
    }
   ],
   "source": [
    "val_mapping['vec_anchor'] = list(whale2vec.predict_generator(\n",
    "    iterate_images(images, val_mapping['image_anchor'].values, 8),\n",
    "    get_batch_count(val_mapping['image_anchor'].values, 8),\n",
    "    verbose=True\n",
    "))\n",
    "val_mapping['vec_positive'] = list(whale2vec.predict_generator(\n",
    "    iterate_images(images, val_mapping['image_positive'].values, 8),\n",
    "    get_batch_count(val_mapping['image_positive'].values, 8),\n",
    "    verbose=True\n",
    "))\n",
    "val_mapping['vec_negative'] = list(whale2vec.predict_generator(\n",
    "    iterate_images(images, val_mapping['image_negative'].values, 8),\n",
    "    get_batch_count(val_mapping['image_negative'].values, 8),\n",
    "    verbose=True\n",
    "))"
   ]
  },
  {
   "cell_type": "code",
   "execution_count": 73,
   "metadata": {},
   "outputs": [],
   "source": [
    "val_mapping['dist_positive'] = val_mapping.apply(lambda row: np.sqrt( ((row['vec_anchor'] - row['vec_positive']) ** 2).sum() ),\n",
    "                                                 axis=1)\n",
    "val_mapping['dist_negative'] = val_mapping.apply(lambda row: np.sqrt( ((row['vec_anchor'] - row['vec_negative']) ** 2).sum() ),\n",
    "                                                 axis=1)"
   ]
  },
  {
   "cell_type": "code",
   "execution_count": 74,
   "metadata": {},
   "outputs": [
    {
     "name": "stderr",
     "output_type": "stream",
     "text": [
      "/home/user/.conda/envs/whales/lib/python3.6/site-packages/scipy/stats/stats.py:1713: FutureWarning: Using a non-tuple sequence for multidimensional indexing is deprecated; use `arr[tuple(seq)]` instead of `arr[seq]`. In the future this will be interpreted as an array index, `arr[np.array(seq)]`, which will result either in an error or a different result.\n",
      "  return np.add.reduce(sorted[indexer] * weights, axis=axis) / sumval\n"
     ]
    },
    {
     "data": {
      "text/plain": [
       "<matplotlib.legend.Legend at 0x7f37a64c2208>"
      ]
     },
     "execution_count": 74,
     "metadata": {},
     "output_type": "execute_result"
    },
    {
     "data": {
      "image/png": "[encoded data removed]",
      "text/plain": [
       "<Figure size 432x288 with 1 Axes>"
      ]
     },
     "metadata": {
      "needs_background": "light"
     },
     "output_type": "display_data"
    }
   ],
   "source": [
    "sns.distplot(val_mapping.loc[val_mapping['image_positive'] != val_mapping['image_anchor'], 'dist_positive'], label='Positive')\n",
    "sns.distplot(val_mapping['dist_negative'], label='Negative')\n",
    "plt.legend()"
   ]
  },
  {
   "cell_type": "code",
   "execution_count": 75,
   "metadata": {},
   "outputs": [
    {
     "name": "stdout",
     "output_type": "stream",
     "text": [
      "1763/1763 [==============================] - 158s 90ms/step\n",
      "1763/1763 [==============================] - 158s 90ms/step\n",
      "1763/1763 [==============================] - 158s 90ms/step\n"
     ]
    }
   ],
   "source": [
    "train_mapping['vec_anchor'] = list(whale2vec.predict_generator(\n",
    "    iterate_images(images, train_mapping['image_anchor'].values, 8),\n",
    "    get_batch_count(train_mapping['image_anchor'].values, 8),\n",
    "    verbose=True\n",
    "))\n",
    "train_mapping['vec_positive'] = list(whale2vec.predict_generator(\n",
    "    iterate_images(images, train_mapping['image_positive'].values, 8),\n",
    "    get_batch_count(train_mapping['image_positive'].values, 8),\n",
    "    verbose=True\n",
    "))\n",
    "train_mapping['vec_negative'] = list(whale2vec.predict_generator(\n",
    "    iterate_images(images, train_mapping['image_negative'].values, 8),\n",
    "    get_batch_count(train_mapping['image_negative'].values, 8),\n",
    "    verbose=True\n",
    "))"
   ]
  },
  {
   "cell_type": "code",
   "execution_count": 76,
   "metadata": {},
   "outputs": [],
   "source": [
    "train_mapping['dist_positive'] = train_mapping.apply(lambda row: np.sqrt( ((row['vec_anchor'] - row['vec_positive']) ** 2).sum() ),\n",
    "                                                 axis=1)\n",
    "train_mapping['dist_negative'] = train_mapping.apply(lambda row: np.sqrt( ((row['vec_anchor'] - row['vec_negative']) ** 2).sum() ),\n",
    "                                                 axis=1)"
   ]
  },
  {
   "cell_type": "code",
   "execution_count": 77,
   "metadata": {},
   "outputs": [
    {
     "data": {
      "text/plain": [
       "<matplotlib.legend.Legend at 0x7f37a96330f0>"
      ]
     },
     "execution_count": 77,
     "metadata": {},
     "output_type": "execute_result"
    },
    {
     "data": {
      "image/png": "[encoded data removed]",
      "text/plain": [
       "<Figure size 432x288 with 1 Axes>"
      ]
     },
     "metadata": {
      "needs_background": "light"
     },
     "output_type": "display_data"
    }
   ],
   "source": [
    "sns.distplot(train_mapping.loc[train_mapping['image_positive'] != train_mapping['image_anchor'], 'dist_positive'], label='Positive')\n",
    "sns.distplot(train_mapping['dist_negative'], label='Negative')\n",
    "plt.legend()"
   ]
  },
  {
   "cell_type": "code",
   "execution_count": 78,
   "metadata": {},
   "outputs": [
    {
     "name": "stdout",
     "output_type": "stream",
     "text": [
      "3171/3171 [==============================] - 285s 90ms/step\n"
     ]
    }
   ],
   "source": [
    "images_vectors = whale2vec.predict_generator(\n",
    "    iterate_images(images, sorted(images.keys()), 8),\n",
    "    get_batch_count(images.keys(), 8),\n",
    "    verbose=True\n",
    ")\n",
    "image2index = {fname: index for index, fname in enumerate(sorted(images.keys()))}"
   ]
  },
  {
   "cell_type": "code",
   "execution_count": 82,
   "metadata": {},
   "outputs": [],
   "source": [
    "fnames = np.array(sorted(images.keys()))\n",
    "ids = df.set_index('image')['id'][fnames].values"
   ]
  },
  {
   "cell_type": "code",
   "execution_count": 85,
   "metadata": {},
   "outputs": [
    {
     "name": "stderr",
     "output_type": "stream",
     "text": [
      "/home/user/.conda/envs/whales/lib/python3.6/site-packages/sklearn/metrics/pairwise.py:258: RuntimeWarning: invalid value encountered in sqrt\n",
      "  return distances if squared else np.sqrt(distances, out=distances)\n"
     ]
    },
    {
     "data": {
      "text/plain": [
       "(15697, 15697)"
      ]
     },
     "execution_count": 85,
     "metadata": {},
     "output_type": "execute_result"
    }
   ],
   "source": [
    "X_known = euclidean_distances(images_vectors[ids != 'new_whale'], images_vectors[ids != 'new_whale'])\n",
    "X_known.shape"
   ]
  },
  {
   "cell_type": "code",
   "execution_count": 87,
   "metadata": {},
   "outputs": [
    {
     "data": {
      "text/plain": [
       "(9664, 15697)"
      ]
     },
     "execution_count": 87,
     "metadata": {},
     "output_type": "execute_result"
    }
   ],
   "source": [
    "X_unknown = euclidean_distances(images_vectors[ids == 'new_whale'], images_vectors[ids != 'new_whale'])\n",
    "X_unknown.shape"
   ]
  },
  {
   "cell_type": "code",
   "execution_count": 93,
   "metadata": {},
   "outputs": [],
   "source": [
    "X_known[X_known == 0] = np.inf"
   ]
  },
  {
   "cell_type": "code",
   "execution_count": 97,
   "metadata": {},
   "outputs": [
    {
     "name": "stderr",
     "output_type": "stream",
     "text": [
      "/home/user/.conda/envs/whales/lib/python3.6/site-packages/scipy/stats/stats.py:1713: FutureWarning: Using a non-tuple sequence for multidimensional indexing is deprecated; use `arr[tuple(seq)]` instead of `arr[seq]`. In the future this will be interpreted as an array index, `arr[np.array(seq)]`, which will result either in an error or a different result.\n",
      "  return np.add.reduce(sorted[indexer] * weights, axis=axis) / sumval\n"
     ]
    },
    {
     "data": {
      "text/plain": [
       "<matplotlib.legend.Legend at 0x7f37a4065fd0>"
      ]
     },
     "execution_count": 97,
     "metadata": {},
     "output_type": "execute_result"
    },
    {
     "data": {
      "image/png": "[encoded data removed]",
      "text/plain": [
       "<Figure size 432x288 with 1 Axes>"
      ]
     },
     "metadata": {
      "needs_background": "light"
     },
     "output_type": "display_data"
    }
   ],
   "source": [
    "sns.distplot(X_unknown.min(axis=1), label='New whales')\n",
    "sns.distplot(X_known.min(axis=1), label='Known whales')\n",
    "plt.legend()"
   ]
  },
  {
   "cell_type": "code",
   "execution_count": 124,
   "metadata": {},
   "outputs": [],
   "source": [
    "X = np.hstack([X_known.min(axis=1), X_unknown.min(axis=1)])\n",
    "y = np.hstack([np.zeros(len(X_known)), np.ones(len(X_unknown))])"
   ]
  },
  {
   "cell_type": "code",
   "execution_count": 125,
   "metadata": {},
   "outputs": [
    {
     "name": "stderr",
     "output_type": "stream",
     "text": [
      "/home/user/.conda/envs/whales/lib/python3.6/site-packages/sklearn/metrics/classification.py:1145: UndefinedMetricWarning: F-score is ill-defined and being set to 0.0 due to no true samples.\n",
      "  'recall', 'true', average, warn_for)\n"
     ]
    },
    {
     "data": {
      "text/plain": [
       "     fun: -0.6727909011373577\n",
       " message: 'Solution found.'\n",
       "    nfev: 26\n",
       "  status: 0\n",
       " success: True\n",
       "       x: 0.2916430514927032"
      ]
     },
     "execution_count": 125,
     "metadata": {},
     "output_type": "execute_result"
    }
   ],
   "source": [
    "threshold_search = minimize_scalar(lambda thr: -f1_score(1.0 * (X > thr), y),\n",
    "                                   bounds=(0.0, 1.0),\n",
    "                                   method='bounded')\n",
    "threshold_search"
   ]
  },
  {
   "cell_type": "code",
   "execution_count": 126,
   "metadata": {},
   "outputs": [
    {
     "data": {
      "text/plain": [
       "0.6727909011373577"
      ]
     },
     "execution_count": 126,
     "metadata": {},
     "output_type": "execute_result"
    }
   ],
   "source": [
    "f1_score(1.0 * (X > threshold_search.x), y)"
   ]
  },
  {
   "cell_type": "code",
   "execution_count": 127,
   "metadata": {},
   "outputs": [],
   "source": [
    "test_images = common.read_pickle('../data/test-images.pkl')"
   ]
  },
  {
   "cell_type": "code",
   "execution_count": 153,
   "metadata": {},
   "outputs": [
    {
     "data": {
      "text/plain": [
       "KNeighborsClassifier(algorithm='auto', leaf_size=30, metric='euclidean',\n",
       "           metric_params=None, n_jobs=None, n_neighbors=250, p=2,\n",
       "           weights='uniform')"
      ]
     },
     "execution_count": 153,
     "metadata": {},
     "output_type": "execute_result"
    }
   ],
   "source": [
    "knn = KNeighborsClassifier(250, metric='euclidean')\n",
    "knn.fit(images_vectors, ids)"
   ]
  },
  {
   "cell_type": "code",
   "execution_count": 154,
   "metadata": {},
   "outputs": [
    {
     "name": "stdout",
     "output_type": "stream",
     "text": [
      "995/995 [==============================] - 89s 90ms/step\n"
     ]
    }
   ],
   "source": [
    "test_images_vectors = whale2vec.predict_generator(\n",
    "    iterate_images(test_images, sorted(test_images.keys()), 8),\n",
    "    get_batch_count(test_images.keys(), 8),\n",
    "    verbose=True\n",
    ")\n",
    "test_image2index = {fname: index for index, fname in enumerate(sorted(test_images.keys()))}"
   ]
  },
  {
   "cell_type": "code",
   "execution_count": 155,
   "metadata": {},
   "outputs": [],
   "source": [
    "neighbours = knn.kneighbors(test_images_vectors)"
   ]
  },
  {
   "cell_type": "code",
   "execution_count": 156,
   "metadata": {},
   "outputs": [],
   "source": [
    "distances, indices = neighbours"
   ]
  },
  {
   "cell_type": "code",
   "execution_count": 157,
   "metadata": {},
   "outputs": [
    {
     "data": {
      "text/plain": [
       "array([['new_whale', 'w_41d24c6', 'new_whale', 'new_whale', 'w_69b5ace',\n",
       "        'w_d72771c', 'w_c63fd83', 'w_e36b021', 'w_0ee9ae5', 'w_d72771c',\n",
       "        'w_d907b6c', 'w_0369a5c', 'new_whale', 'new_whale', 'w_f314516',\n",
       "        'w_04003e9', 'w_3cd4d35', 'w_41d24c6', 'w_5a3e0de', 'w_ee57fc5',\n",
       "        'new_whale', 'w_dd88965', 'w_39141fc', 'w_0d052c1', 'w_ae393cd',\n",
       "        'w_0e9f07a', 'w_41d24c6', 'w_5d6ba39', 'w_69b5ace', 'w_bb2c919',\n",
       "        'w_0cbf1b3', 'new_whale', 'w_b128587', 'w_db2d2ac', 'w_41d24c6',\n",
       "        'w_1bd2d91', 'w_4312b77', 'new_whale', 'w_700ebb4', 'w_c536a4a',\n",
       "        'w_69c8945', 'new_whale', 'new_whale', 'w_bb2c919', 'w_d72771c',\n",
       "        'w_b60f441', 'w_aa0bd3b', 'w_d602efb', 'w_cad4b47', 'w_ec7f1b3',\n",
       "        'w_2b17316', 'w_5612025', 'new_whale', 'w_5d6ba39', 'w_ce44322',\n",
       "        'new_whale', 'w_2548d54', 'w_fd6a3ad', 'new_whale', 'w_cac9bdb',\n",
       "        'w_d9cdc09', 'w_2365d55', 'new_whale', 'new_whale', 'w_c1efffb',\n",
       "        'w_d223b2e', 'w_23a388d', 'w_4e87672', 'w_cac9bdb', 'w_f459442',\n",
       "        'w_67a9841', 'w_f7cd240', 'w_03ad89c', 'w_cf88f4b', 'w_1457f13',\n",
       "        'new_whale', 'new_whale', 'w_dc651ad', 'w_13a7d9a', 'w_659bdb8',\n",
       "        'w_cd6743e', 'new_whale', 'w_e54d8f6', 'w_73282ec', 'new_whale',\n",
       "        'w_bb2c919', 'new_whale', 'w_bcf69e9', 'w_73d71d2', 'w_6e6307e',\n",
       "        'w_0b1e4a6', 'w_c11f9d8', 'w_0a155b9', 'w_dcdcc9d', 'w_db3cfa4',\n",
       "        'w_f7cd240', 'w_a9304b9', 'w_700ebb4', 'w_396c12b', 'new_whale',\n",
       "        'w_8431ae8', 'w_3fb99a3', 'w_fae4be5', 'w_9713cc3', 'w_0cbf1b3',\n",
       "        'new_whale', 'w_61b9586', 'w_c875e45', 'w_3108dce', 'w_cf88f4b',\n",
       "        'w_04003e9', 'w_03670aa', 'new_whale', 'new_whale', 'w_fe87282',\n",
       "        'w_fdd3687', 'w_c49e344', 'new_whale', 'w_96f893b', 'w_16def42',\n",
       "        'new_whale', 'w_1b2bf0f', 'new_whale', 'w_74ec366', 'w_67a9841',\n",
       "        'new_whale', 'w_1ca9ab1', 'w_f602022', 'w_789c969', 'new_whale',\n",
       "        'w_3ebfe7a', 'w_7ae20cf', 'w_19410fe', 'new_whale', 'w_dfd0ae8',\n",
       "        'new_whale', 'w_d5bbfbc', 'w_26e4f44', 'w_d0b330d', 'w_0189b6d',\n",
       "        'w_0b1e4a6', 'w_f648d33', 'new_whale', 'w_752ffa2', 'w_d0bfef3',\n",
       "        'w_396c12b', 'new_whale', 'w_f0fe284', 'w_0369a5c', 'w_6ca173f',\n",
       "        'w_3fb99a3', 'new_whale', 'w_6df47c6', 'w_abb3ee6', 'w_8e74601',\n",
       "        'new_whale', 'w_5a2634c', 'new_whale', 'w_677be14', 'w_c63c580',\n",
       "        'w_0bc1de9', 'w_da651f6', 'new_whale', 'w_0369a5c', 'w_2f67f0a',\n",
       "        'w_0db2e26', 'w_50fd107', 'new_whale', 'w_f602022', 'new_whale',\n",
       "        'new_whale', 'w_5d5c6a6', 'w_d72771c', 'w_c563492', 'w_bc7de9f',\n",
       "        'w_41d24c6', 'new_whale', 'w_23a388d', 'w_7d5a3b0', 'w_d223b2e',\n",
       "        'w_a780b2d', 'w_d72771c', 'w_82fac51', 'w_aa3489d', 'w_76ad1d2',\n",
       "        'w_e6264df', 'w_23a388d', 'new_whale', 'new_whale', 'w_2b069ba',\n",
       "        'w_6df2400', 'w_5816f86', 'w_36bbd71', 'w_446a02d', 'w_b8a7ee7',\n",
       "        'w_bc7de9f', 'w_52196e1', 'new_whale', 'w_03670aa', 'new_whale',\n",
       "        'w_1f1cee1', 'new_whale', 'w_c0d11da', 'w_16dfac7', 'w_e5b21c0',\n",
       "        'new_whale', 'new_whale', 'w_948268e', 'new_whale', 'w_68df91a',\n",
       "        'w_0833a92', 'w_d4c30a9', 'w_4846b27', 'new_whale', 'new_whale',\n",
       "        'new_whale', 'w_23ce00e', 'new_whale', 'w_23a388d', 'w_6f0cbe3',\n",
       "        'w_6f0cbe3', 'w_446a02d', 'w_4132bb8', 'new_whale', 'w_9c506f6',\n",
       "        'w_ba62b79', 'w_fd9d727', 'new_whale', 'new_whale', 'w_fbcfe74',\n",
       "        'w_d8dda8d', 'w_ae8bd64', 'new_whale', 'w_67a9841', 'new_whale',\n",
       "        'new_whale', 'new_whale', 'w_9c2f8e2', 'w_b71ac68', 'w_5597026',\n",
       "        'w_3108dce', 'w_716f64f', 'w_8da30ad', 'w_0d052c1', 'w_301f728',\n",
       "        'w_c1d2fbe', 'new_whale', 'w_4516d31', 'w_23a388d', 'w_f57140c'],\n",
       "       ['new_whale', 'w_2b17316', 'new_whale', 'w_6aab519', 'w_61e4690',\n",
       "        'new_whale', 'w_0c76541', 'w_a053ed9', 'w_adedd1f', 'new_whale',\n",
       "        'w_3209f9e', 'new_whale', 'w_2694603', 'w_1d2d323', 'w_a6eaf8d',\n",
       "        'new_whale', 'w_f652809', 'new_whale', 'new_whale', 'w_102821e',\n",
       "        'w_439b6cf', 'w_8e04a78', 'new_whale', 'new_whale', 'w_0ee9ae5',\n",
       "        'w_f50b00d', 'new_whale', 'new_whale', 'w_396c12b', 'new_whale',\n",
       "        'w_872f131', 'new_whale', 'new_whale', 'w_4132bb8', 'w_5f5f9ae',\n",
       "        'w_e2a09d4', 'new_whale', 'w_0e93f25', 'w_8279f22', 'w_df86a42',\n",
       "        'new_whale', 'w_62bedea', 'new_whale', 'w_88bb921', 'w_bf960fa',\n",
       "        'new_whale', 'new_whale', 'new_whale', 'new_whale', 'new_whale',\n",
       "        'new_whale', 'w_f5bf6df', 'w_68b59dd', 'w_be36790', 'new_whale',\n",
       "        'w_adedd1f', 'w_396c12b', 'new_whale', 'w_d223b2e', 'new_whale',\n",
       "        'new_whale', 'new_whale', 'new_whale', 'w_4bf625b', 'w_f18a3c9',\n",
       "        'new_whale', 'w_267c7e3', 'w_722a04a', 'new_whale', 'w_f0fe284',\n",
       "        'new_whale', 'w_351a377', 'new_whale', 'new_whale', 'w_1be76f5',\n",
       "        'w_5816f86', 'new_whale', 'w_494c72d', 'w_700ebb4', 'new_whale',\n",
       "        'w_1ca9ab1', 'w_4132bb8', 'new_whale', 'new_whale', 'w_ddb62c2',\n",
       "        'new_whale', 'new_whale', 'new_whale', 'new_whale', 'w_e2a09d4',\n",
       "        'new_whale', 'w_7e51d7b', 'new_whale', 'w_4b04d0f', 'w_22d96e7',\n",
       "        'new_whale', 'new_whale', 'new_whale', 'w_1f7c696', 'w_cac9bdb',\n",
       "        'w_0bc078c', 'new_whale', 'w_3cc7dc4', 'w_515bd01', 'new_whale',\n",
       "        'w_8f65356', 'new_whale', 'new_whale', 'new_whale', 'new_whale',\n",
       "        'w_307e5e9', 'new_whale', 'w_89f6097', 'w_47aa042', 'w_5c51475',\n",
       "        'new_whale', 'w_1ee38d5', 'w_ea6a9f4', 'new_whale', 'new_whale',\n",
       "        'new_whale', 'w_f971ecb', 'new_whale', 'new_whale', 'new_whale',\n",
       "        'new_whale', 'new_whale', 'w_5a2634c', 'w_02d138d', 'w_f0fe284',\n",
       "        'w_d51cb28', 'w_cac9bdb', 'new_whale', 'w_0369a5c', 'w_2b17316',\n",
       "        'w_c63c580', 'w_0e7ec27', 'new_whale', 'w_716f64f', 'w_63b91aa',\n",
       "        'new_whale', 'w_7ba6d48', 'w_ddb62c2', 'w_decafbd', 'new_whale',\n",
       "        'new_whale', 'new_whale', 'w_5a2634c', 'w_85bb73c', 'w_f648d33',\n",
       "        'new_whale', 'new_whale', 'new_whale', 'w_396c12b', 'w_e022d1b',\n",
       "        'new_whale', 'w_84c23bb', 'w_22d96e7', 'new_whale', 'new_whale',\n",
       "        'w_5f5f9ae', 'w_2548d54', 'w_87b0e69', 'new_whale', 'new_whale',\n",
       "        'new_whale', 'w_5cf4727', 'new_whale', 'w_f0fe284', 'w_840061a',\n",
       "        'w_fb3959d', 'new_whale', 'w_5a3cd6d', 'new_whale', 'w_87b0e69',\n",
       "        'w_264c2e1', 'new_whale', 'new_whale', 'w_639867f', 'new_whale',\n",
       "        'w_37f260a', 'new_whale', 'new_whale', 'w_d9d1e17', 'w_cf31c86',\n",
       "        'new_whale', 'new_whale', 'w_ec16cc4', 'new_whale', 'w_5773c71',\n",
       "        'new_whale', 'new_whale', 'w_ddb62c2', 'w_98fc82f', 'w_e3956f5',\n",
       "        'w_fe881f2', 'new_whale', 'new_whale', 'w_2a0e817', 'new_whale',\n",
       "        'new_whale', 'new_whale', 'w_29c88c2', 'w_5f5f9ae', 'w_ce1aed8',\n",
       "        'new_whale', 'w_9748a78', 'w_5e94510', 'w_c11f9d8', 'new_whale',\n",
       "        'new_whale', 'w_6c09f7f', 'w_7395388', 'new_whale', 'w_1a9e018',\n",
       "        'new_whale', 'w_afcf807', 'w_3f22dc6', 'new_whale', 'w_69b5ace',\n",
       "        'new_whale', 'new_whale', 'w_553d3d0', 'w_f3d2e31', 'new_whale',\n",
       "        'new_whale', 'new_whale', 'new_whale', 'w_92f4498', 'w_98f2705',\n",
       "        'new_whale', 'w_c7e2a65', 'new_whale', 'new_whale', 'new_whale',\n",
       "        'w_90abfeb', 'new_whale', 'new_whale', 'w_29c88c2', 'new_whale',\n",
       "        'w_840061a', 'w_4fdb4c1', 'w_42c1a3c', 'w_d8a08f8', 'new_whale',\n",
       "        'w_cac9bdb', 'w_573d141', 'w_49afbc9', 'new_whale', 'w_ba4f96c']],\n",
       "      dtype='<U9')"
      ]
     },
     "execution_count": 157,
     "metadata": {},
     "output_type": "execute_result"
    }
   ],
   "source": [
    "neighbouds_ids = np.array([ids[idx] for idx in indices.ravel()]).reshape(indices.shape)\n",
    "neighbouds_ids[:2]"
   ]
  },
  {
   "cell_type": "code",
   "execution_count": 158,
   "metadata": {},
   "outputs": [],
   "source": [
    "def ordered_top_items(ids, count):\n",
    "    items = []\n",
    "    for i in ids:\n",
    "        if i not in items:\n",
    "            items.append(i)\n",
    "    items = items[:count]\n",
    "    return np.array(items)"
   ]
  },
  {
   "cell_type": "code",
   "execution_count": 159,
   "metadata": {},
   "outputs": [
    {
     "data": {
      "text/plain": [
       "array(['new_whale', 'w_41d24c6', 'w_69b5ace', 'w_d72771c', 'w_c63fd83'],\n",
       "      dtype='<U9')"
      ]
     },
     "execution_count": 159,
     "metadata": {},
     "output_type": "execute_result"
    }
   ],
   "source": [
    "ordered_top_items(neighbouds_ids[0], 5)"
   ]
  },
  {
   "cell_type": "code",
   "execution_count": 160,
   "metadata": {},
   "outputs": [],
   "source": [
    "neighbouds_ids_cleaned = np.array([\n",
    "    ordered_top_items(row, 5)\n",
    "    for row in neighbouds_ids\n",
    "])"
   ]
  },
  {
   "cell_type": "code",
   "execution_count": 162,
   "metadata": {},
   "outputs": [
    {
     "data": {
      "text/plain": [
       "(7960, 5)"
      ]
     },
     "execution_count": 162,
     "metadata": {},
     "output_type": "execute_result"
    }
   ],
   "source": [
    "neighbouds_ids_cleaned.shape"
   ]
  },
  {
   "cell_type": "code",
   "execution_count": 172,
   "metadata": {},
   "outputs": [],
   "source": [
    "def classes(distances, classes):\n",
    "    if distances.min() > threshold_search.x:\n",
    "        classes = ['new_whale'] + list(classes)\n",
    "    classes = ordered_top_items(classes, 5)\n",
    "    return np.array(classes)"
   ]
  },
  {
   "cell_type": "code",
   "execution_count": 173,
   "metadata": {},
   "outputs": [],
   "source": [
    "predicted_classes = np.array([\n",
    "    classes(dist, idxs)\n",
    "    for dist, idxs in zip(distances, neighbouds_ids_cleaned)\n",
    "])"
   ]
  },
  {
   "cell_type": "code",
   "execution_count": 175,
   "metadata": {},
   "outputs": [
    {
     "data": {
      "text/html": [
       "<div>\n",
       "<style scoped>\n",
       "    .dataframe tbody tr th:only-of-type {\n",
       "        vertical-align: middle;\n",
       "    }\n",
       "\n",
       "    .dataframe tbody tr th {\n",
       "        vertical-align: top;\n",
       "    }\n",
       "\n",
       "    .dataframe thead th {\n",
       "        text-align: right;\n",
       "    }\n",
       "</style>\n",
       "<table border=\"1\" class=\"dataframe\">\n",
       "  <thead>\n",
       "    <tr style=\"text-align: right;\">\n",
       "      <th></th>\n",
       "      <th>0</th>\n",
       "      <th>1</th>\n",
       "    </tr>\n",
       "  </thead>\n",
       "  <tbody>\n",
       "    <tr>\n",
       "      <th>0</th>\n",
       "      <td>00028a005.jpg</td>\n",
       "      <td>new_whale w_41d24c6 w_69b5ace w_d72771c w_c63fd83</td>\n",
       "    </tr>\n",
       "    <tr>\n",
       "      <th>1</th>\n",
       "      <td>000dcf7d8.jpg</td>\n",
       "      <td>new_whale w_2b17316 w_6aab519 w_61e4690 w_0c76541</td>\n",
       "    </tr>\n",
       "    <tr>\n",
       "      <th>2</th>\n",
       "      <td>000e7c7df.jpg</td>\n",
       "      <td>new_whale w_15951db w_dd837b1 w_6bab2bd w_f3252ff</td>\n",
       "    </tr>\n",
       "    <tr>\n",
       "      <th>3</th>\n",
       "      <td>0019c34f4.jpg</td>\n",
       "      <td>w_d71a790 w_34ecf36 w_9c506f6 w_23e1d57 w_46c4c49</td>\n",
       "    </tr>\n",
       "    <tr>\n",
       "      <th>4</th>\n",
       "      <td>001a4d292.jpg</td>\n",
       "      <td>new_whale w_aaf3463 w_4a12050 w_281a8cd w_4096187</td>\n",
       "    </tr>\n",
       "  </tbody>\n",
       "</table>\n",
       "</div>"
      ],
      "text/plain": [
       "               0                                                  1\n",
       "0  00028a005.jpg  new_whale w_41d24c6 w_69b5ace w_d72771c w_c63fd83\n",
       "1  000dcf7d8.jpg  new_whale w_2b17316 w_6aab519 w_61e4690 w_0c76541\n",
       "2  000e7c7df.jpg  new_whale w_15951db w_dd837b1 w_6bab2bd w_f3252ff\n",
       "3  0019c34f4.jpg  w_d71a790 w_34ecf36 w_9c506f6 w_23e1d57 w_46c4c49\n",
       "4  001a4d292.jpg  new_whale w_aaf3463 w_4a12050 w_281a8cd w_4096187"
      ]
     },
     "execution_count": 175,
     "metadata": {},
     "output_type": "execute_result"
    }
   ],
   "source": [
    "prediction = pd.DataFrame([\n",
    "    [fname] + [' '.join(list(predicted_classes[test_image2index[fname]]))]\n",
    "    for fname in sorted(test_image2index.keys())\n",
    "])\n",
    "prediction.head()"
   ]
  },
  {
   "cell_type": "code",
   "execution_count": 176,
   "metadata": {},
   "outputs": [
    {
     "data": {
      "text/html": [
       "<div>\n",
       "<style scoped>\n",
       "    .dataframe tbody tr th:only-of-type {\n",
       "        vertical-align: middle;\n",
       "    }\n",
       "\n",
       "    .dataframe tbody tr th {\n",
       "        vertical-align: top;\n",
       "    }\n",
       "\n",
       "    .dataframe thead th {\n",
       "        text-align: right;\n",
       "    }\n",
       "</style>\n",
       "<table border=\"1\" class=\"dataframe\">\n",
       "  <thead>\n",
       "    <tr style=\"text-align: right;\">\n",
       "      <th></th>\n",
       "      <th>Image</th>\n",
       "      <th>Id</th>\n",
       "    </tr>\n",
       "  </thead>\n",
       "  <tbody>\n",
       "    <tr>\n",
       "      <th>0</th>\n",
       "      <td>00028a005.jpg</td>\n",
       "      <td>new_whale w_41d24c6 w_69b5ace w_d72771c w_c63fd83</td>\n",
       "    </tr>\n",
       "    <tr>\n",
       "      <th>1</th>\n",
       "      <td>000dcf7d8.jpg</td>\n",
       "      <td>new_whale w_2b17316 w_6aab519 w_61e4690 w_0c76541</td>\n",
       "    </tr>\n",
       "    <tr>\n",
       "      <th>2</th>\n",
       "      <td>000e7c7df.jpg</td>\n",
       "      <td>new_whale w_15951db w_dd837b1 w_6bab2bd w_f3252ff</td>\n",
       "    </tr>\n",
       "    <tr>\n",
       "      <th>3</th>\n",
       "      <td>0019c34f4.jpg</td>\n",
       "      <td>w_d71a790 w_34ecf36 w_9c506f6 w_23e1d57 w_46c4c49</td>\n",
       "    </tr>\n",
       "    <tr>\n",
       "      <th>4</th>\n",
       "      <td>001a4d292.jpg</td>\n",
       "      <td>new_whale w_aaf3463 w_4a12050 w_281a8cd w_4096187</td>\n",
       "    </tr>\n",
       "  </tbody>\n",
       "</table>\n",
       "</div>"
      ],
      "text/plain": [
       "           Image                                                 Id\n",
       "0  00028a005.jpg  new_whale w_41d24c6 w_69b5ace w_d72771c w_c63fd83\n",
       "1  000dcf7d8.jpg  new_whale w_2b17316 w_6aab519 w_61e4690 w_0c76541\n",
       "2  000e7c7df.jpg  new_whale w_15951db w_dd837b1 w_6bab2bd w_f3252ff\n",
       "3  0019c34f4.jpg  w_d71a790 w_34ecf36 w_9c506f6 w_23e1d57 w_46c4c49\n",
       "4  001a4d292.jpg  new_whale w_aaf3463 w_4a12050 w_281a8cd w_4096187"
      ]
     },
     "execution_count": 176,
     "metadata": {},
     "output_type": "execute_result"
    }
   ],
   "source": [
    "prediction.columns = ['Image', 'Id']\n",
    "prediction.head()"
   ]
  },
  {
   "cell_type": "code",
   "execution_count": 177,
   "metadata": {},
   "outputs": [],
   "source": [
    "prediction.to_csv('output.csv', index=None)"
   ]
  }
 ],
 "metadata": {
  "kernelspec": {
   "display_name": "Python 3",
   "language": "python",
   "name": "python3"
  },
  "language_info": {
   "codemirror_mode": {
    "name": "ipython",
    "version": 3
   },
   "file_extension": ".py",
   "mimetype": "text/x-python",
   "name": "python",
   "nbconvert_exporter": "python",
   "pygments_lexer": "ipython3",
   "version": "3.6.7"
  }
 },
 "nbformat": 4,
 "nbformat_minor": 2
}
